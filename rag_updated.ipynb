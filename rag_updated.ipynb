{
 "cells": [
  {
   "cell_type": "markdown",
   "id": "1f40370c",
   "metadata": {},
   "source": [
    "**Instalación de dependencias**\n",
    "\n",
    "Agrega los paquetes necesarios a tu proyecto:"
   ]
  },
  {
   "cell_type": "code",
   "execution_count": null,
   "id": "f50af55e",
   "metadata": {},
   "outputs": [],
   "source": [
    "%pip install azure-ai-inference[opentelemetry]\n",
    "%pip install azure-search-documents \n",
    "%pip install azure-identity\n",
    "%pip install openai\n",
    "%pip install scikit-learn\n",
    "%pip install plotly\n"
   ]
  },
  {
   "cell_type": "markdown",
   "id": "0e3d8480",
   "metadata": {},
   "source": [
    "**Configuración de la aplicación**\n",
    "\n",
    "Aquí está la configuración de tu aplicación, podrías mejorarla usando un archivo .env en lugar de dejar aquí todas tus variables!\n",
    "¿Puedes con eso?"
   ]
  },
  {
   "cell_type": "code",
   "execution_count": 21,
   "id": "3844a3e9",
   "metadata": {},
   "outputs": [],
   "source": [
    "import os\n",
    "from openai import AzureOpenAI\n",
    "from azure.search.documents import SearchClient\n",
    "from azure.core.credentials import AzureKeyCredential\n",
    "import dotenv\n",
    "from azure.search.documents.models import VectorizableTextQuery\n",
    "import time\n",
    "import numpy as np\n",
    "import pandas as pd\n",
    "from openai import AzureOpenAI\n",
    "from sklearn.metrics.pairwise import cosine_similarity\n",
    "import plotly.graph_objects as go"
   ]
  },
  {
   "cell_type": "code",
   "execution_count": 22,
   "id": "dacc3b6d",
   "metadata": {},
   "outputs": [],
   "source": [
    "\n",
    "dotenv.load_dotenv()\n",
    "\n",
    "# Leer las variables definidas en el archivo .env\n",
    "\n",
    "azure_openai_api_key = os.getenv(\"AZURE_OPENAI_API_KEY\")\n",
    "AZURE_OPENAI_API_KEY = os.getenv(\"AZURE_OPENAI_API_KEY\")\n",
    "AZURE_OPENAI_ENDPOINT = os.getenv(\"AZURE_OPENAI_ENDPOINT\")\n",
    "OPENAI_API_VERSION = os.getenv(\"OPENAI_API_VERSION\")\n",
    "\n",
    "AZURE_OPENAI_EMBEDDING_DEPLOYED_MODEL_NAME= os.getenv(\"AZURE_OPENAI_EMBEDDING_DEPLOYED_MODEL_NAME\")\n",
    "\n",
    "AZURE_SEARCH_SERVICE_ENDPOINT = os.getenv(\"AZURE_SEARCH_SERVICE_ENDPOINT\")\n",
    "AZURE_SEARCH_INDEX = os.getenv(\"AZURE_SEARCH_INDEX\")\n",
    "AZURE_SEARCH_ADMIN_KEY = os.getenv(\"AZURE_SEARCH_ADMIN_KEY\")\n",
    "\n",
    "openai_client = AzureOpenAI(\n",
    "    api_key=AZURE_OPENAI_API_KEY,\n",
    "    azure_endpoint=AZURE_OPENAI_ENDPOINT,\n",
    "    api_version=OPENAI_API_VERSION\n",
    ")\n",
    "\n",
    "search_client = SearchClient(\n",
    "    endpoint=AZURE_SEARCH_SERVICE_ENDPOINT,\n",
    "    index_name=AZURE_SEARCH_INDEX,\n",
    "    credential=AzureKeyCredential(AZURE_SEARCH_ADMIN_KEY)\n",
    ")"
   ]
  },
  {
   "cell_type": "code",
   "execution_count": 33,
   "id": "46f5b899",
   "metadata": {},
   "outputs": [],
   "source": [
    "def search_with_vector_query(user_question: str, top: int = 3, k_nearest_neighbors: int = 3, vector_field: str = \"text_vector\"):\n",
    "    \"\"\"\n",
    "    Realiza una búsqueda vectorial en Azure Cognitive Search usando una pregunta del usuario.\n",
    "\n",
    "    Args:\n",
    "        search_client: instancia de Azure SearchClient ya autenticada.\n",
    "        user_question (str): pregunta o texto de búsqueda.\n",
    "        top (int): número de documentos a recuperar.\n",
    "        k_nearest_neighbors (int): número de vecinos más cercanos a buscar en el vector.\n",
    "        vector_field (str): nombre del campo de vector en el índice (por defecto 'text_vector').\n",
    "\n",
    "    Returns:\n",
    "        list: lista de resultados relevantes.\n",
    "    \"\"\"\n",
    "    search_results = search_client.search(\n",
    "        None,\n",
    "        top=top,\n",
    "        vector_queries=[\n",
    "            VectorizableTextQuery(\n",
    "                text=user_question,\n",
    "                k_nearest_neighbors=k_nearest_neighbors,\n",
    "                fields=vector_field\n",
    "            )\n",
    "        ],\n",
    "    )\n",
    "\n",
    "    # Convertimos los resultados en una lista más manejable\n",
    "    #for result in search_results:\n",
    "    #    print(\"Chunk ID:\", result[\"chunk_id\"])\n",
    "    #    print(\"Title:\", result[\"title\"])\n",
    "    #    print(\"Text:\", result[\"chunk\"])\n",
    "    #    print()\n",
    "\n",
    "    context = \"\"\n",
    "    for result in search_results:\n",
    "        context += result[\"chunk\"] + \"\\n\\n\"\n",
    "\n",
    "    return context"
   ]
  },
  {
   "cell_type": "markdown",
   "id": "75071e77",
   "metadata": {},
   "source": [
    "\n",
    "# Comparación de Modelos LLM en RAG (Azure Search + OpenAI)\n",
    "\n",
    "Esta sección permite comparar **tres modelos de lenguaje (LLM)** usando la misma consulta RAG y medir su rendimiento en términos de:\n",
    "- Precisión semántica (similitud con la query)\n",
    "- Longitud de respuesta\n",
    "- Tiempo de inferencia\n",
    "\n",
    "También puedes cambiar fácilmente el **modelo de embeddings** (por defecto `text-embedding-ada-002`).\n"
   ]
  },
  {
   "cell_type": "code",
   "execution_count": 14,
   "id": "6572feda",
   "metadata": {},
   "outputs": [],
   "source": [
    "# Configuración por defecto\n",
    "CHAT_MODELS = [\"gpt-4o\", \"DeepSeek-R1\"]\n",
    "\n",
    "EMBEDDINGS = [\"text-embedding-ada-002\"]"
   ]
  },
  {
   "cell_type": "code",
   "execution_count": null,
   "id": "4d92ed44",
   "metadata": {},
   "outputs": [],
   "source": [
    "\n",
    "def get_embedding(text, model=EMBEDDINGS[0]):\n",
    "    response = openai_client.embeddings.create(input=[text], model=model)\n",
    "    return response.data[0].embedding\n",
    "\n",
    "def cosine(v1, v2):\n",
    "    return float(cosine_similarity([v1], [v2])[0][0])\n",
    "\n"
   ]
  },
  {
   "cell_type": "code",
   "execution_count": null,
   "id": "5e0a1e43",
   "metadata": {},
   "outputs": [],
   "source": [
    "\n",
    "def compare_models(user_question):\n",
    "    results = []\n",
    "    query_emb = get_embedding(user_question)\n",
    "\n",
    "    for model_name in CHAT_MODELS:\n",
    "        start = time.time()\n",
    "\n",
    "        # Consulta los documentos relevantes usando la pregunta del usuario\n",
    "        context = search_with_vector_query(user_question)\n",
    "\n",
    "        SYSTEM_MESSAGE = f\"\"\"\n",
    "        You are an AI Assistant.\n",
    "        Be brief in your answers. Answer ONLY with the facts listed in the retrieved text.\n",
    "\n",
    "        Context:\n",
    "        {context}\n",
    "        \"\"\"\n",
    "\n",
    "        USER_MESSAGE = user_question\n",
    "\n",
    "        response = openai_client.chat.completions.create(\n",
    "            model=model_name,\n",
    "            messages=[{\"role\": \"system\", \"content\": SYSTEM_MESSAGE},\n",
    "                      {\"role\": \"user\", \"content\": USER_MESSAGE}],\n",
    "            temperature=0.7\n",
    "        )\n",
    "        \n",
    "        end = time.time()\n",
    "\n",
    "        text = response.choices[0].message.content.strip()\n",
    "        resp_emb = get_embedding(text)\n",
    "        sim = cosine(query_emb, resp_emb)\n",
    "\n",
    "        results.append({\n",
    "            \"model\": model_name,\n",
    "            \"response\": text,\n",
    "            \"similarity\": sim,\n",
    "            \"length\": len(text),\n",
    "            \"time_sec\": round(end - start, 2)\n",
    "        })\n",
    "\n",
    "    df = pd.DataFrame(results)\n",
    "    print(\"\\nResultados de comparación:\")\n",
    "    display(df)\n",
    "\n",
    "    fig = go.Figure(data=[\n",
    "        go.Bar(name=\"Similitud\", x=df[\"model\"], y=df[\"similarity\"]),\n",
    "        go.Bar(name=\"Longitud\", x=df[\"model\"], y=df[\"length\"]),\n",
    "        go.Bar(name=\"Tiempo (s)\", x=df[\"model\"], y=df[\"time_sec\"])\n",
    "    ])\n",
    "    fig.update_layout(barmode=\"group\", title=\"Comparativa de LLMs\", xaxis_title=\"Modelo\", yaxis_title=\"Valor\")\n",
    "    fig.show()\n",
    "\n",
    "    return df\n"
   ]
  },
  {
   "cell_type": "code",
   "execution_count": 38,
   "id": "33389394",
   "metadata": {},
   "outputs": [
    {
     "name": "stdout",
     "output_type": "stream",
     "text": [
      "Retrieved Context for model gpt-4o :\n",
      " y rala dejando caer la \n",
      "semilla en el fondo de un pequeño \n",
      "surco a 1 o 5 centímetros de \n",
      "profundidad. Posteriormente se ralea dejando las plantas a la distancia \n",
      "\n",
      "\n",
      "\n",
      "Manual para el Productor: El Cultivo de las Hortalizas\n",
      "\n",
      "Proyecto: Manejo Integral de los Recursos Naturales en el Trópico de Cochabamba y Los Yungas de La Paz\n",
      "\n",
      "16\n",
      "\n",
      "adecuada. Ejemplo: rábano, \n",
      "zanahoria, espinaca. En este \n",
      "sistema los cultivos de ciclo tardío \n",
      "se siembran en surcos espaciados \n",
      "a un metre entre ello y de 45 a 70 \n",
      "centímetros para cultivos de ciclo \n",
      "precoz.\n",
      "\n",
      "c) A golpes.- Se siembra la semilla en \n",
      "pequeños huecos distanciados, \n",
      "colocando 2 a 3 semillas en cada \n",
      "hueco.\n",
      "\n",
      "4.1.2 DIMENSIONADO\n",
      "\n",
      "Se realiza bajo el método de tres bolillos y cuadrado. En este sistema \n",
      "se hacen agujeros de 2 a 5 centímetros de profundidad. Las semillas \n",
      "o plántulas se siembran en cada punta de un triángulo o cuadrado \n",
      "imaginario. Estos sistemas permiten que más plantas puedan crecer \n",
      "dentro de un área dada. Además, evita el crecimiento de maleza y la \n",
      "evaporación de la humedad.\n",
      "\n",
      "4.2 SIEMBRA INDIRECTA (TRASPLANTE)\n",
      "\n",
      "Para este tipo de siembra se realiza primero el almacigo, pasadas unas \n",
      "semanas o cuando tienen entre 3 a 4 hojas y un tamaño de planta de \n",
      "entre 10 a 12 centímetros, se sacan del almacigo para plantar en el \n",
      "terreno definitivo previamente preparado. Las hortalizas que se siembran \n",
      "indirectamente son: tomate, acelga, lechuga, repollo, coliflor, cebolla, \n",
      "rábano, nabo, brócoli.\n",
      "\n",
      "\n",
      "\n",
      "Manual para el Productor: El Cultivo de las Hortalizas\n",
      "\n",
      "Proyecto: Manejo Integral de los Recursos Naturales en el Trópico de Cochabamba y Los Yungas de La Paz\n",
      "\n",
      "17\n",
      "\n",
      "4.3 ALMACIGO\n",
      "\n",
      "4.3.1 ¿QUE ES EL ALMACIGO O GERMINADERO?\n",
      "\n",
      "El almacigo es una pequeña área en la \n",
      "que se hace trabajos para que semillas \n",
      "de ciertas hortalizas encuentren buenas \n",
      "condiciones (suelo, sombra, humedad) para \n",
      "la germinación.\n",
      "\n",
      "Debido al tamaño de la semilla, la \n",
      "susceptibilidad y el poder germinativo bajo, \n",
      "algunas hortalizas requieren ser almacigadas.\n",
      "\n",
      "Recursos Naturales en el Trópico de Cochabamba y Los Yungas de La Paz\n",
      "\n",
      "13\n",
      "\n",
      "Las respuestas a estas preguntas deben tomar en cuenta la disponibilidad \n",
      "de espacio, luz, agua, época de siembra, maduración, tolerancia de \n",
      "unas a otras, tolerancia a condiciones del suelo, clima, mercado y \n",
      "comercialización.\n",
      "\n",
      "3.1 TAREAS PARA COMENZAR LA HUERTA\n",
      "\n",
      "El lugar donde se establecerá la huerta deben realizarse las siguientes \n",
      "tareas:\n",
      "\n",
      " ✔ Cercado de la huerta: Utilizar cercos con materiales del lugar, alambres \n",
      "con púas ó alambre hexagonal galvanizado.\n",
      "\n",
      " ✔ Limpieza del terreno: Eliminar árboles y arbustos, limpiar de piedras \n",
      "grandes, plásticos o botellas.\n",
      "\n",
      " ✔ Nivelación del terreno: Es conveniente que el terreno tenga una ligera \n",
      "inclinación para escurrir el exceso de agua de lluvia. Una zanja en la \n",
      "parte baja para drenar el exceso de agua.\n",
      "\n",
      " ✔ Preparación del suelo: Consiste en dar vuelta la tierra y dejarla suelta y \n",
      "mullida (blando y esponjoso), para que las raíces se desarrollen mejor. \n",
      "La preparación del suelo debe realizarse un mes antes de la siembra.\n",
      "\n",
      "3.2 QUE ESPECIES HORTICOLAS SEMBRAR\n",
      "\n",
      "La planificación de las especies hortícolas a sembrarse debe tomar en \n",
      "cuenta varias especies de hortalizas bajo un sistema rotativo que permita \n",
      "mantener el ciclo de producción y abastecimiento de hortalizas durante \n",
      "todo el año, promoviendo un ambiente sano para el desarrollo de las \n",
      "plantas.\n",
      "\n",
      "Por tanto, las especies de hortalizas deben ser de ciclo corto y largo para \n",
      "\n",
      "\n",
      "\n",
      "Manual para el Productor: El Cultivo de las Hortalizas\n",
      "\n",
      "Proyecto: Manejo Integral de los Recursos Naturales en el Trópico de Cochabamba y Los Yungas de La Paz\n",
      "\n",
      "14\n",
      "\n",
      "asegurar la obtención distribuida de alimentos durante todo el año.\n",
      "\n",
      "La asociación de dos o más especies con diferente sistema de raíces \n",
      "permite un mejor aprovechamiento del suelo.\n",
      "\n",
      "Las asociaciones que se sugieren son las siguientes:\n",
      " ✔ Frijol-rábano\n",
      " ✔ Zanahoria-rábano\n",
      " ✔ Repollo-lechuga\n",
      " ✔ Tomate-lechuga, repollo-rábano\n",
      " ✔ Pepino-lechuga\n",
      "\n",
      "Cultivo de las Hortalizas\n",
      "\n",
      "Proyecto: Manejo Integral de los Recursos Naturales en el Trópico de Cochabamba y Los Yungas de La Paz\n",
      "\n",
      "17\n",
      "\n",
      "4.3 ALMACIGO\n",
      "\n",
      "4.3.1 ¿QUE ES EL ALMACIGO O GERMINADERO?\n",
      "\n",
      "El almacigo es una pequeña área en la \n",
      "que se hace trabajos para que semillas \n",
      "de ciertas hortalizas encuentren buenas \n",
      "condiciones (suelo, sombra, humedad) para \n",
      "la germinación.\n",
      "\n",
      "Debido al tamaño de la semilla, la \n",
      "susceptibilidad y el poder germinativo bajo, \n",
      "algunas hortalizas requieren ser almacigadas. Es por estas razones \n",
      "que se debe dar condiciones óptimas y controladas para no perder la \n",
      "semilla. Ejemplo: La mayoría de las hortalizas como la lechuga, coliflor, \n",
      "pimentón, repollo, brócoli, apio y tomate.\n",
      "\n",
      "4.3.2 TIPOS DE ALMACIGO\n",
      "\n",
      "Existen almácigos portátiles, los cuales \n",
      "pueden ser elaborados por el mismo \n",
      "productor en lugar de comprarlos, las \n",
      "dimensiones son las siguientes.\n",
      "\n",
      " ✔ 10 cm de alto\n",
      " ✔ 35 cm de ancho\n",
      " ✔ 60 cm de largo\n",
      "\n",
      "Almácigos en terreno, son aquellos \n",
      "construidos en un lugar seleccionado de la \n",
      "huerta. El tamaño dependerá de la cantidad \n",
      "de semilla a utilizarse. Por lo general debe \n",
      "\n",
      "\n",
      "\n",
      "Manual para el Productor: El Cultivo de las Hortalizas\n",
      "\n",
      "Proyecto: Manejo Integral de los Recursos Naturales en el Trópico de Cochabamba y Los Yungas de La Paz\n",
      "\n",
      "18\n",
      "\n",
      "ser de 1 metro de ancho por 2 metros de largo y de 15 a 20 cm de alto. \n",
      "Algunas recomendaciones para la siembra de semilla son:\n",
      "\n",
      " ✔ Sembrar la semilla en surcos y tapar con la misma tierra, 3 o 4 veces el \n",
      "tamaño de la semilla.\n",
      "\n",
      " ✔ Regar y cubrir con paja u hojas largas.\n",
      " ✔ Cuando las plantitas tienen 2 a 3 hojas, puede removerse el suelo e \n",
      "\n",
      "incorporar abono orgánico.\n",
      "\n",
      "4.4 SUSTRATO\n",
      "\n",
      "El sustrato a utilizarse  para el almacigo \n",
      "debe ser preparado de la siguiente \n",
      "manera:\n",
      "\n",
      " ✔ 1/3 parte de compost o abono\n",
      " ✔ 1/3 parte de arena\n",
      " ✔ 1/3 parte de tierra fértil\n",
      "\n",
      "Es decir, se debe procurar una textura \n",
      "suelta y porosa, para que las raíces de las \n",
      "nuevas plántulas puedan crecer mucho \n",
      "más rápido.\n",
      "\n",
      "\n",
      "Retrieved Context for model DeepSeek-R1 :\n",
      " y rala dejando caer la \n",
      "semilla en el fondo de un pequeño \n",
      "surco a 1 o 5 centímetros de \n",
      "profundidad. Posteriormente se ralea dejando las plantas a la distancia \n",
      "\n",
      "\n",
      "\n",
      "Manual para el Productor: El Cultivo de las Hortalizas\n",
      "\n",
      "Proyecto: Manejo Integral de los Recursos Naturales en el Trópico de Cochabamba y Los Yungas de La Paz\n",
      "\n",
      "16\n",
      "\n",
      "adecuada. Ejemplo: rábano, \n",
      "zanahoria, espinaca. En este \n",
      "sistema los cultivos de ciclo tardío \n",
      "se siembran en surcos espaciados \n",
      "a un metre entre ello y de 45 a 70 \n",
      "centímetros para cultivos de ciclo \n",
      "precoz.\n",
      "\n",
      "c) A golpes.- Se siembra la semilla en \n",
      "pequeños huecos distanciados, \n",
      "colocando 2 a 3 semillas en cada \n",
      "hueco.\n",
      "\n",
      "4.1.2 DIMENSIONADO\n",
      "\n",
      "Se realiza bajo el método de tres bolillos y cuadrado. En este sistema \n",
      "se hacen agujeros de 2 a 5 centímetros de profundidad. Las semillas \n",
      "o plántulas se siembran en cada punta de un triángulo o cuadrado \n",
      "imaginario. Estos sistemas permiten que más plantas puedan crecer \n",
      "dentro de un área dada. Además, evita el crecimiento de maleza y la \n",
      "evaporación de la humedad.\n",
      "\n",
      "4.2 SIEMBRA INDIRECTA (TRASPLANTE)\n",
      "\n",
      "Para este tipo de siembra se realiza primero el almacigo, pasadas unas \n",
      "semanas o cuando tienen entre 3 a 4 hojas y un tamaño de planta de \n",
      "entre 10 a 12 centímetros, se sacan del almacigo para plantar en el \n",
      "terreno definitivo previamente preparado. Las hortalizas que se siembran \n",
      "indirectamente son: tomate, acelga, lechuga, repollo, coliflor, cebolla, \n",
      "rábano, nabo, brócoli.\n",
      "\n",
      "\n",
      "\n",
      "Manual para el Productor: El Cultivo de las Hortalizas\n",
      "\n",
      "Proyecto: Manejo Integral de los Recursos Naturales en el Trópico de Cochabamba y Los Yungas de La Paz\n",
      "\n",
      "17\n",
      "\n",
      "4.3 ALMACIGO\n",
      "\n",
      "4.3.1 ¿QUE ES EL ALMACIGO O GERMINADERO?\n",
      "\n",
      "El almacigo es una pequeña área en la \n",
      "que se hace trabajos para que semillas \n",
      "de ciertas hortalizas encuentren buenas \n",
      "condiciones (suelo, sombra, humedad) para \n",
      "la germinación.\n",
      "\n",
      "Debido al tamaño de la semilla, la \n",
      "susceptibilidad y el poder germinativo bajo, \n",
      "algunas hortalizas requieren ser almacigadas.\n",
      "\n",
      "Recursos Naturales en el Trópico de Cochabamba y Los Yungas de La Paz\n",
      "\n",
      "13\n",
      "\n",
      "Las respuestas a estas preguntas deben tomar en cuenta la disponibilidad \n",
      "de espacio, luz, agua, época de siembra, maduración, tolerancia de \n",
      "unas a otras, tolerancia a condiciones del suelo, clima, mercado y \n",
      "comercialización.\n",
      "\n",
      "3.1 TAREAS PARA COMENZAR LA HUERTA\n",
      "\n",
      "El lugar donde se establecerá la huerta deben realizarse las siguientes \n",
      "tareas:\n",
      "\n",
      " ✔ Cercado de la huerta: Utilizar cercos con materiales del lugar, alambres \n",
      "con púas ó alambre hexagonal galvanizado.\n",
      "\n",
      " ✔ Limpieza del terreno: Eliminar árboles y arbustos, limpiar de piedras \n",
      "grandes, plásticos o botellas.\n",
      "\n",
      " ✔ Nivelación del terreno: Es conveniente que el terreno tenga una ligera \n",
      "inclinación para escurrir el exceso de agua de lluvia. Una zanja en la \n",
      "parte baja para drenar el exceso de agua.\n",
      "\n",
      " ✔ Preparación del suelo: Consiste en dar vuelta la tierra y dejarla suelta y \n",
      "mullida (blando y esponjoso), para que las raíces se desarrollen mejor. \n",
      "La preparación del suelo debe realizarse un mes antes de la siembra.\n",
      "\n",
      "3.2 QUE ESPECIES HORTICOLAS SEMBRAR\n",
      "\n",
      "La planificación de las especies hortícolas a sembrarse debe tomar en \n",
      "cuenta varias especies de hortalizas bajo un sistema rotativo que permita \n",
      "mantener el ciclo de producción y abastecimiento de hortalizas durante \n",
      "todo el año, promoviendo un ambiente sano para el desarrollo de las \n",
      "plantas.\n",
      "\n",
      "Por tanto, las especies de hortalizas deben ser de ciclo corto y largo para \n",
      "\n",
      "\n",
      "\n",
      "Manual para el Productor: El Cultivo de las Hortalizas\n",
      "\n",
      "Proyecto: Manejo Integral de los Recursos Naturales en el Trópico de Cochabamba y Los Yungas de La Paz\n",
      "\n",
      "14\n",
      "\n",
      "asegurar la obtención distribuida de alimentos durante todo el año.\n",
      "\n",
      "La asociación de dos o más especies con diferente sistema de raíces \n",
      "permite un mejor aprovechamiento del suelo.\n",
      "\n",
      "Las asociaciones que se sugieren son las siguientes:\n",
      " ✔ Frijol-rábano\n",
      " ✔ Zanahoria-rábano\n",
      " ✔ Repollo-lechuga\n",
      " ✔ Tomate-lechuga, repollo-rábano\n",
      " ✔ Pepino-lechuga\n",
      "\n",
      "Cultivo de las Hortalizas\n",
      "\n",
      "Proyecto: Manejo Integral de los Recursos Naturales en el Trópico de Cochabamba y Los Yungas de La Paz\n",
      "\n",
      "17\n",
      "\n",
      "4.3 ALMACIGO\n",
      "\n",
      "4.3.1 ¿QUE ES EL ALMACIGO O GERMINADERO?\n",
      "\n",
      "El almacigo es una pequeña área en la \n",
      "que se hace trabajos para que semillas \n",
      "de ciertas hortalizas encuentren buenas \n",
      "condiciones (suelo, sombra, humedad) para \n",
      "la germinación.\n",
      "\n",
      "Debido al tamaño de la semilla, la \n",
      "susceptibilidad y el poder germinativo bajo, \n",
      "algunas hortalizas requieren ser almacigadas. Es por estas razones \n",
      "que se debe dar condiciones óptimas y controladas para no perder la \n",
      "semilla. Ejemplo: La mayoría de las hortalizas como la lechuga, coliflor, \n",
      "pimentón, repollo, brócoli, apio y tomate.\n",
      "\n",
      "4.3.2 TIPOS DE ALMACIGO\n",
      "\n",
      "Existen almácigos portátiles, los cuales \n",
      "pueden ser elaborados por el mismo \n",
      "productor en lugar de comprarlos, las \n",
      "dimensiones son las siguientes.\n",
      "\n",
      " ✔ 10 cm de alto\n",
      " ✔ 35 cm de ancho\n",
      " ✔ 60 cm de largo\n",
      "\n",
      "Almácigos en terreno, son aquellos \n",
      "construidos en un lugar seleccionado de la \n",
      "huerta. El tamaño dependerá de la cantidad \n",
      "de semilla a utilizarse. Por lo general debe \n",
      "\n",
      "\n",
      "\n",
      "Manual para el Productor: El Cultivo de las Hortalizas\n",
      "\n",
      "Proyecto: Manejo Integral de los Recursos Naturales en el Trópico de Cochabamba y Los Yungas de La Paz\n",
      "\n",
      "18\n",
      "\n",
      "ser de 1 metro de ancho por 2 metros de largo y de 15 a 20 cm de alto. \n",
      "Algunas recomendaciones para la siembra de semilla son:\n",
      "\n",
      " ✔ Sembrar la semilla en surcos y tapar con la misma tierra, 3 o 4 veces el \n",
      "tamaño de la semilla.\n",
      "\n",
      " ✔ Regar y cubrir con paja u hojas largas.\n",
      " ✔ Cuando las plantitas tienen 2 a 3 hojas, puede removerse el suelo e \n",
      "\n",
      "incorporar abono orgánico.\n",
      "\n",
      "4.4 SUSTRATO\n",
      "\n",
      "El sustrato a utilizarse  para el almacigo \n",
      "debe ser preparado de la siguiente \n",
      "manera:\n",
      "\n",
      " ✔ 1/3 parte de compost o abono\n",
      " ✔ 1/3 parte de arena\n",
      " ✔ 1/3 parte de tierra fértil\n",
      "\n",
      "Es decir, se debe procurar una textura \n",
      "suelta y porosa, para que las raíces de las \n",
      "nuevas plántulas puedan crecer mucho \n",
      "más rápido.\n",
      "\n",
      "\n",
      "\n",
      "Resultados de comparación:\n"
     ]
    },
    {
     "data": {
      "text/html": [
       "<div>\n",
       "<style scoped>\n",
       "    .dataframe tbody tr th:only-of-type {\n",
       "        vertical-align: middle;\n",
       "    }\n",
       "\n",
       "    .dataframe tbody tr th {\n",
       "        vertical-align: top;\n",
       "    }\n",
       "\n",
       "    .dataframe thead th {\n",
       "        text-align: right;\n",
       "    }\n",
       "</style>\n",
       "<table border=\"1\" class=\"dataframe\">\n",
       "  <thead>\n",
       "    <tr style=\"text-align: right;\">\n",
       "      <th></th>\n",
       "      <th>model</th>\n",
       "      <th>response</th>\n",
       "      <th>similarity</th>\n",
       "      <th>length</th>\n",
       "      <th>time_sec</th>\n",
       "    </tr>\n",
       "  </thead>\n",
       "  <tbody>\n",
       "    <tr>\n",
       "      <th>0</th>\n",
       "      <td>gpt-4o</td>\n",
       "      <td>The almacigo, or germinadero, is a small area ...</td>\n",
       "      <td>0.803226</td>\n",
       "      <td>431</td>\n",
       "      <td>3.87</td>\n",
       "    </tr>\n",
       "    <tr>\n",
       "      <th>1</th>\n",
       "      <td>DeepSeek-R1</td>\n",
       "      <td>The steps for indirect sowing (trasplante) are...</td>\n",
       "      <td>0.789180</td>\n",
       "      <td>407</td>\n",
       "      <td>5.41</td>\n",
       "    </tr>\n",
       "  </tbody>\n",
       "</table>\n",
       "</div>"
      ],
      "text/plain": [
       "         model                                           response  similarity  \\\n",
       "0       gpt-4o  The almacigo, or germinadero, is a small area ...    0.803226   \n",
       "1  DeepSeek-R1  The steps for indirect sowing (trasplante) are...    0.789180   \n",
       "\n",
       "   length  time_sec  \n",
       "0     431      3.87  \n",
       "1     407      5.41  "
      ]
     },
     "metadata": {},
     "output_type": "display_data"
    },
    {
     "data": {
      "application/vnd.plotly.v1+json": {
       "config": {
        "plotlyServerURL": "https://plot.ly"
       },
       "data": [
        {
         "name": "Similitud",
         "type": "bar",
         "x": [
          "gpt-4o",
          "DeepSeek-R1"
         ],
         "y": {
          "bdata": "92vqtge06T/XwZba9UDpPw==",
          "dtype": "f8"
         }
        },
        {
         "name": "Longitud",
         "type": "bar",
         "x": [
          "gpt-4o",
          "DeepSeek-R1"
         ],
         "y": {
          "bdata": "rwGXAQ==",
          "dtype": "i2"
         }
        },
        {
         "name": "Tiempo (s)",
         "type": "bar",
         "x": [
          "gpt-4o",
          "DeepSeek-R1"
         ],
         "y": {
          "bdata": "9ihcj8L1DkCkcD0K16MVQA==",
          "dtype": "f8"
         }
        }
       ],
       "layout": {
        "barmode": "group",
        "template": {
         "data": {
          "bar": [
           {
            "error_x": {
             "color": "#2a3f5f"
            },
            "error_y": {
             "color": "#2a3f5f"
            },
            "marker": {
             "line": {
              "color": "#E5ECF6",
              "width": 0.5
             },
             "pattern": {
              "fillmode": "overlay",
              "size": 10,
              "solidity": 0.2
             }
            },
            "type": "bar"
           }
          ],
          "barpolar": [
           {
            "marker": {
             "line": {
              "color": "#E5ECF6",
              "width": 0.5
             },
             "pattern": {
              "fillmode": "overlay",
              "size": 10,
              "solidity": 0.2
             }
            },
            "type": "barpolar"
           }
          ],
          "carpet": [
           {
            "aaxis": {
             "endlinecolor": "#2a3f5f",
             "gridcolor": "white",
             "linecolor": "white",
             "minorgridcolor": "white",
             "startlinecolor": "#2a3f5f"
            },
            "baxis": {
             "endlinecolor": "#2a3f5f",
             "gridcolor": "white",
             "linecolor": "white",
             "minorgridcolor": "white",
             "startlinecolor": "#2a3f5f"
            },
            "type": "carpet"
           }
          ],
          "choropleth": [
           {
            "colorbar": {
             "outlinewidth": 0,
             "ticks": ""
            },
            "type": "choropleth"
           }
          ],
          "contour": [
           {
            "colorbar": {
             "outlinewidth": 0,
             "ticks": ""
            },
            "colorscale": [
             [
              0,
              "#0d0887"
             ],
             [
              0.1111111111111111,
              "#46039f"
             ],
             [
              0.2222222222222222,
              "#7201a8"
             ],
             [
              0.3333333333333333,
              "#9c179e"
             ],
             [
              0.4444444444444444,
              "#bd3786"
             ],
             [
              0.5555555555555556,
              "#d8576b"
             ],
             [
              0.6666666666666666,
              "#ed7953"
             ],
             [
              0.7777777777777778,
              "#fb9f3a"
             ],
             [
              0.8888888888888888,
              "#fdca26"
             ],
             [
              1,
              "#f0f921"
             ]
            ],
            "type": "contour"
           }
          ],
          "contourcarpet": [
           {
            "colorbar": {
             "outlinewidth": 0,
             "ticks": ""
            },
            "type": "contourcarpet"
           }
          ],
          "heatmap": [
           {
            "colorbar": {
             "outlinewidth": 0,
             "ticks": ""
            },
            "colorscale": [
             [
              0,
              "#0d0887"
             ],
             [
              0.1111111111111111,
              "#46039f"
             ],
             [
              0.2222222222222222,
              "#7201a8"
             ],
             [
              0.3333333333333333,
              "#9c179e"
             ],
             [
              0.4444444444444444,
              "#bd3786"
             ],
             [
              0.5555555555555556,
              "#d8576b"
             ],
             [
              0.6666666666666666,
              "#ed7953"
             ],
             [
              0.7777777777777778,
              "#fb9f3a"
             ],
             [
              0.8888888888888888,
              "#fdca26"
             ],
             [
              1,
              "#f0f921"
             ]
            ],
            "type": "heatmap"
           }
          ],
          "histogram": [
           {
            "marker": {
             "pattern": {
              "fillmode": "overlay",
              "size": 10,
              "solidity": 0.2
             }
            },
            "type": "histogram"
           }
          ],
          "histogram2d": [
           {
            "colorbar": {
             "outlinewidth": 0,
             "ticks": ""
            },
            "colorscale": [
             [
              0,
              "#0d0887"
             ],
             [
              0.1111111111111111,
              "#46039f"
             ],
             [
              0.2222222222222222,
              "#7201a8"
             ],
             [
              0.3333333333333333,
              "#9c179e"
             ],
             [
              0.4444444444444444,
              "#bd3786"
             ],
             [
              0.5555555555555556,
              "#d8576b"
             ],
             [
              0.6666666666666666,
              "#ed7953"
             ],
             [
              0.7777777777777778,
              "#fb9f3a"
             ],
             [
              0.8888888888888888,
              "#fdca26"
             ],
             [
              1,
              "#f0f921"
             ]
            ],
            "type": "histogram2d"
           }
          ],
          "histogram2dcontour": [
           {
            "colorbar": {
             "outlinewidth": 0,
             "ticks": ""
            },
            "colorscale": [
             [
              0,
              "#0d0887"
             ],
             [
              0.1111111111111111,
              "#46039f"
             ],
             [
              0.2222222222222222,
              "#7201a8"
             ],
             [
              0.3333333333333333,
              "#9c179e"
             ],
             [
              0.4444444444444444,
              "#bd3786"
             ],
             [
              0.5555555555555556,
              "#d8576b"
             ],
             [
              0.6666666666666666,
              "#ed7953"
             ],
             [
              0.7777777777777778,
              "#fb9f3a"
             ],
             [
              0.8888888888888888,
              "#fdca26"
             ],
             [
              1,
              "#f0f921"
             ]
            ],
            "type": "histogram2dcontour"
           }
          ],
          "mesh3d": [
           {
            "colorbar": {
             "outlinewidth": 0,
             "ticks": ""
            },
            "type": "mesh3d"
           }
          ],
          "parcoords": [
           {
            "line": {
             "colorbar": {
              "outlinewidth": 0,
              "ticks": ""
             }
            },
            "type": "parcoords"
           }
          ],
          "pie": [
           {
            "automargin": true,
            "type": "pie"
           }
          ],
          "scatter": [
           {
            "fillpattern": {
             "fillmode": "overlay",
             "size": 10,
             "solidity": 0.2
            },
            "type": "scatter"
           }
          ],
          "scatter3d": [
           {
            "line": {
             "colorbar": {
              "outlinewidth": 0,
              "ticks": ""
             }
            },
            "marker": {
             "colorbar": {
              "outlinewidth": 0,
              "ticks": ""
             }
            },
            "type": "scatter3d"
           }
          ],
          "scattercarpet": [
           {
            "marker": {
             "colorbar": {
              "outlinewidth": 0,
              "ticks": ""
             }
            },
            "type": "scattercarpet"
           }
          ],
          "scattergeo": [
           {
            "marker": {
             "colorbar": {
              "outlinewidth": 0,
              "ticks": ""
             }
            },
            "type": "scattergeo"
           }
          ],
          "scattergl": [
           {
            "marker": {
             "colorbar": {
              "outlinewidth": 0,
              "ticks": ""
             }
            },
            "type": "scattergl"
           }
          ],
          "scattermap": [
           {
            "marker": {
             "colorbar": {
              "outlinewidth": 0,
              "ticks": ""
             }
            },
            "type": "scattermap"
           }
          ],
          "scattermapbox": [
           {
            "marker": {
             "colorbar": {
              "outlinewidth": 0,
              "ticks": ""
             }
            },
            "type": "scattermapbox"
           }
          ],
          "scatterpolar": [
           {
            "marker": {
             "colorbar": {
              "outlinewidth": 0,
              "ticks": ""
             }
            },
            "type": "scatterpolar"
           }
          ],
          "scatterpolargl": [
           {
            "marker": {
             "colorbar": {
              "outlinewidth": 0,
              "ticks": ""
             }
            },
            "type": "scatterpolargl"
           }
          ],
          "scatterternary": [
           {
            "marker": {
             "colorbar": {
              "outlinewidth": 0,
              "ticks": ""
             }
            },
            "type": "scatterternary"
           }
          ],
          "surface": [
           {
            "colorbar": {
             "outlinewidth": 0,
             "ticks": ""
            },
            "colorscale": [
             [
              0,
              "#0d0887"
             ],
             [
              0.1111111111111111,
              "#46039f"
             ],
             [
              0.2222222222222222,
              "#7201a8"
             ],
             [
              0.3333333333333333,
              "#9c179e"
             ],
             [
              0.4444444444444444,
              "#bd3786"
             ],
             [
              0.5555555555555556,
              "#d8576b"
             ],
             [
              0.6666666666666666,
              "#ed7953"
             ],
             [
              0.7777777777777778,
              "#fb9f3a"
             ],
             [
              0.8888888888888888,
              "#fdca26"
             ],
             [
              1,
              "#f0f921"
             ]
            ],
            "type": "surface"
           }
          ],
          "table": [
           {
            "cells": {
             "fill": {
              "color": "#EBF0F8"
             },
             "line": {
              "color": "white"
             }
            },
            "header": {
             "fill": {
              "color": "#C8D4E3"
             },
             "line": {
              "color": "white"
             }
            },
            "type": "table"
           }
          ]
         },
         "layout": {
          "annotationdefaults": {
           "arrowcolor": "#2a3f5f",
           "arrowhead": 0,
           "arrowwidth": 1
          },
          "autotypenumbers": "strict",
          "coloraxis": {
           "colorbar": {
            "outlinewidth": 0,
            "ticks": ""
           }
          },
          "colorscale": {
           "diverging": [
            [
             0,
             "#8e0152"
            ],
            [
             0.1,
             "#c51b7d"
            ],
            [
             0.2,
             "#de77ae"
            ],
            [
             0.3,
             "#f1b6da"
            ],
            [
             0.4,
             "#fde0ef"
            ],
            [
             0.5,
             "#f7f7f7"
            ],
            [
             0.6,
             "#e6f5d0"
            ],
            [
             0.7,
             "#b8e186"
            ],
            [
             0.8,
             "#7fbc41"
            ],
            [
             0.9,
             "#4d9221"
            ],
            [
             1,
             "#276419"
            ]
           ],
           "sequential": [
            [
             0,
             "#0d0887"
            ],
            [
             0.1111111111111111,
             "#46039f"
            ],
            [
             0.2222222222222222,
             "#7201a8"
            ],
            [
             0.3333333333333333,
             "#9c179e"
            ],
            [
             0.4444444444444444,
             "#bd3786"
            ],
            [
             0.5555555555555556,
             "#d8576b"
            ],
            [
             0.6666666666666666,
             "#ed7953"
            ],
            [
             0.7777777777777778,
             "#fb9f3a"
            ],
            [
             0.8888888888888888,
             "#fdca26"
            ],
            [
             1,
             "#f0f921"
            ]
           ],
           "sequentialminus": [
            [
             0,
             "#0d0887"
            ],
            [
             0.1111111111111111,
             "#46039f"
            ],
            [
             0.2222222222222222,
             "#7201a8"
            ],
            [
             0.3333333333333333,
             "#9c179e"
            ],
            [
             0.4444444444444444,
             "#bd3786"
            ],
            [
             0.5555555555555556,
             "#d8576b"
            ],
            [
             0.6666666666666666,
             "#ed7953"
            ],
            [
             0.7777777777777778,
             "#fb9f3a"
            ],
            [
             0.8888888888888888,
             "#fdca26"
            ],
            [
             1,
             "#f0f921"
            ]
           ]
          },
          "colorway": [
           "#636efa",
           "#EF553B",
           "#00cc96",
           "#ab63fa",
           "#FFA15A",
           "#19d3f3",
           "#FF6692",
           "#B6E880",
           "#FF97FF",
           "#FECB52"
          ],
          "font": {
           "color": "#2a3f5f"
          },
          "geo": {
           "bgcolor": "white",
           "lakecolor": "white",
           "landcolor": "#E5ECF6",
           "showlakes": true,
           "showland": true,
           "subunitcolor": "white"
          },
          "hoverlabel": {
           "align": "left"
          },
          "hovermode": "closest",
          "mapbox": {
           "style": "light"
          },
          "paper_bgcolor": "white",
          "plot_bgcolor": "#E5ECF6",
          "polar": {
           "angularaxis": {
            "gridcolor": "white",
            "linecolor": "white",
            "ticks": ""
           },
           "bgcolor": "#E5ECF6",
           "radialaxis": {
            "gridcolor": "white",
            "linecolor": "white",
            "ticks": ""
           }
          },
          "scene": {
           "xaxis": {
            "backgroundcolor": "#E5ECF6",
            "gridcolor": "white",
            "gridwidth": 2,
            "linecolor": "white",
            "showbackground": true,
            "ticks": "",
            "zerolinecolor": "white"
           },
           "yaxis": {
            "backgroundcolor": "#E5ECF6",
            "gridcolor": "white",
            "gridwidth": 2,
            "linecolor": "white",
            "showbackground": true,
            "ticks": "",
            "zerolinecolor": "white"
           },
           "zaxis": {
            "backgroundcolor": "#E5ECF6",
            "gridcolor": "white",
            "gridwidth": 2,
            "linecolor": "white",
            "showbackground": true,
            "ticks": "",
            "zerolinecolor": "white"
           }
          },
          "shapedefaults": {
           "line": {
            "color": "#2a3f5f"
           }
          },
          "ternary": {
           "aaxis": {
            "gridcolor": "white",
            "linecolor": "white",
            "ticks": ""
           },
           "baxis": {
            "gridcolor": "white",
            "linecolor": "white",
            "ticks": ""
           },
           "bgcolor": "#E5ECF6",
           "caxis": {
            "gridcolor": "white",
            "linecolor": "white",
            "ticks": ""
           }
          },
          "title": {
           "x": 0.05
          },
          "xaxis": {
           "automargin": true,
           "gridcolor": "white",
           "linecolor": "white",
           "ticks": "",
           "title": {
            "standoff": 15
           },
           "zerolinecolor": "white",
           "zerolinewidth": 2
          },
          "yaxis": {
           "automargin": true,
           "gridcolor": "white",
           "linecolor": "white",
           "ticks": "",
           "title": {
            "standoff": 15
           },
           "zerolinecolor": "white",
           "zerolinewidth": 2
          }
         }
        },
        "title": {
         "text": "Comparativa de LLMs"
        },
        "xaxis": {
         "title": {
          "text": "Modelo"
         }
        },
        "yaxis": {
         "title": {
          "text": "Valor"
         }
        }
       }
      }
     },
     "metadata": {},
     "output_type": "display_data"
    }
   ],
   "source": [
    "\n",
    "user_question = \"¿En qué condiciones climáticas se recomienda sembrar aguacate?\"\n",
    "\n",
    "df_result = compare_models(user_question)\n"
   ]
  }
 ],
 "metadata": {
  "kernelspec": {
   "display_name": "venv",
   "language": "python",
   "name": "python3"
  },
  "language_info": {
   "codemirror_mode": {
    "name": "ipython",
    "version": 3
   },
   "file_extension": ".py",
   "mimetype": "text/x-python",
   "name": "python",
   "nbconvert_exporter": "python",
   "pygments_lexer": "ipython3",
   "version": "3.13.3"
  }
 },
 "nbformat": 4,
 "nbformat_minor": 5
}
